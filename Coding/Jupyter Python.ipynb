{
 "cells": [
  {
   "cell_type": "markdown",
   "metadata": {},
   "source": [
    "Keyboard Arguments"
   ]
  },
  {
   "cell_type": "code",
   "execution_count": 1,
   "metadata": {},
   "outputs": [
    {
     "name": "stdout",
     "output_type": "stream",
     "text": [
      "Hello, Mr. John Smith!\n"
     ]
    }
   ],
   "source": [
    "def hello(greeting, title, first, last):\n",
    "    print(f\"{greeting}, {title} {first} {last}!\")\n",
    "hello(\"Hello\", title=\"Mr.\", first=\"John\", last=\"Smith\")"
   ]
  },
  {
   "cell_type": "code",
   "execution_count": 2,
   "metadata": {},
   "outputs": [
    {
     "name": "stdout",
     "output_type": "stream",
     "text": [
      "1 2 3 4 5 6 7 8 9 10 "
     ]
    }
   ],
   "source": [
    "for x in range(1,11):\n",
    "    print(x, end=' ')\n",
    "    "
   ]
  },
  {
   "cell_type": "code",
   "execution_count": 3,
   "metadata": {},
   "outputs": [
    {
     "name": "stdout",
     "output_type": "stream",
     "text": [
      "1 (123) 456-7890\n"
     ]
    }
   ],
   "source": [
    "def get_phone(country, area, first, last):\n",
    "    return f\"{country} ({area}) {first}-{last}\"\n",
    "\n",
    "phone_num = get_phone(country=1, area=123, first=456, last=7890)\n",
    "\n",
    "print(phone_num)"
   ]
  },
  {
   "cell_type": "markdown",
   "metadata": {},
   "source": [
    "Membership Operators\n"
   ]
  },
  {
   "cell_type": "code",
   "execution_count": null,
   "metadata": {},
   "outputs": [],
   "source": [
    "# (string, list, tuple, set or dictionary)\n",
    "# 1. in\n",
    "# 2. not in"
   ]
  },
  {
   "cell_type": "code",
   "execution_count": 4,
   "metadata": {},
   "outputs": [
    {
     "name": "stdout",
     "output_type": "stream",
     "text": [
      "Q was not found\n"
     ]
    }
   ],
   "source": [
    "word = \"APPLE\"\n",
    "\n",
    "letter = input(\"Guess a letter in the secret word:\")\n",
    " \n",
    "if letter in word:\n",
    "    print(f\"There is a {letter}\")\n",
    "else:\n",
    "    print(f\"{letter} was not found\")    "
   ]
  },
  {
   "cell_type": "code",
   "execution_count": 4,
   "metadata": {},
   "outputs": [
    {
     "name": "stdout",
     "output_type": "stream",
     "text": [
      "Sandy is a student\n"
     ]
    }
   ],
   "source": [
    "students = {\"Spongebob\", \"Patrick\", \"Sandy\"}\n",
    "\n",
    "user = input(\"Enter the name of the student:\")\n",
    "\n",
    "if user in students:\n",
    "    print(f\"{user} is a student\")\n",
    "else:\n",
    "    print(f\"{user} is not a student\")"
   ]
  },
  {
   "cell_type": "code",
   "execution_count": 5,
   "metadata": {},
   "outputs": [
    {
     "name": "stdout",
     "output_type": "stream",
     "text": [
      "Sandy's grade is A\n"
     ]
    }
   ],
   "source": [
    "grades = {\"Sandy\": \"A\",\"Spongebob\": \"B\",\"Patrick\": \"C\"}\n",
    "\n",
    "student = input(\"Enter the name of the student:\")\n",
    "\n",
    "if student in grades:\n",
    "    print(f\"{student}'s grade is {grades[student]}\")\n",
    "else:\n",
    "    print(f\"{student} was not found\")"
   ]
  },
  {
   "cell_type": "markdown",
   "metadata": {},
   "source": [
    "Membership Operators"
   ]
  },
  {
   "cell_type": "code",
   "execution_count": 1,
   "metadata": {},
   "outputs": [
    {
     "name": "stdout",
     "output_type": "stream",
     "text": [
      "Valid email\n"
     ]
    }
   ],
   "source": [
    "# It is used to test whether a value or valuable is found in a sequence (string, list, tuple, set or dictionary)\n",
    "# 1. In\n",
    "# 2. Not in\n",
    "\n",
    "email = \"brocode@gmail.com\"\n",
    "\n",
    "if \"@\" in email and \".\" in email:\n",
    "    print(\"Valid email\")\n",
    "else:\n",
    "    print(\"Invalid Email\")"
   ]
  },
  {
   "cell_type": "markdown",
   "metadata": {},
   "source": [
    "List Comprehensions"
   ]
  },
  {
   "cell_type": "code",
   "execution_count": 4,
   "metadata": {},
   "outputs": [
    {
     "name": "stdout",
     "output_type": "stream",
     "text": [
      "[2, 4, 6, 8, 10, 12, 14, 16, 18, 20]\n"
     ]
    }
   ],
   "source": [
    "# A concise way to create lists in Python. Compact and easier to read than loops\n",
    "# [expression for value in iterable if condition]\n",
    "\n",
    "doubles = []\n",
    "for x in range(1,11):\n",
    "    doubles.append(x * 2)\n",
    "\n",
    "print(doubles)"
   ]
  },
  {
   "cell_type": "code",
   "execution_count": 5,
   "metadata": {},
   "outputs": [
    {
     "name": "stdout",
     "output_type": "stream",
     "text": [
      "[2, 4, 6, 8, 10, 12, 14, 16, 18, 20]\n"
     ]
    }
   ],
   "source": [
    "# Doubles = [expression for value in iterable]\n",
    "doubles = [x * 2 for x in range(1,11)]\n",
    "print(doubles)"
   ]
  },
  {
   "cell_type": "code",
   "execution_count": 6,
   "metadata": {},
   "outputs": [
    {
     "name": "stdout",
     "output_type": "stream",
     "text": [
      "[1, 4, 9, 16, 25, 36, 49, 64, 81, 100]\n"
     ]
    }
   ],
   "source": [
    "squares = [x * x for x in range(1,11)]\n",
    "print(squares)"
   ]
  },
  {
   "cell_type": "code",
   "execution_count": 7,
   "metadata": {},
   "outputs": [
    {
     "name": "stdout",
     "output_type": "stream",
     "text": [
      "['APPLE', 'BANANA', 'CHERRY']\n"
     ]
    }
   ],
   "source": [
    "fruits = [\"apple\", \"banana\", \"cherry\"]\n",
    "fruits = [fruit.upper() for fruit in fruits]\n",
    "print(fruits)"
   ]
  },
  {
   "cell_type": "code",
   "execution_count": 8,
   "metadata": {},
   "outputs": [
    {
     "name": "stdout",
     "output_type": "stream",
     "text": [
      "['a', 'b', 'c']\n"
     ]
    }
   ],
   "source": [
    "fruits = [\"apple\", \"banana\", \"cherry\"]\n",
    "fruit_chars = [fruit[0] for fruit in fruits]\n",
    "print(fruit_chars)"
   ]
  },
  {
   "cell_type": "code",
   "execution_count": 9,
   "metadata": {},
   "outputs": [
    {
     "name": "stdout",
     "output_type": "stream",
     "text": [
      "[1, 3, 5]\n"
     ]
    }
   ],
   "source": [
    "numbers = [1, -2, 3, -4, 5, -6]\n",
    "positive_nums = [num for num in numbers if num>=0]\n",
    "\n",
    "print(positive_nums)"
   ]
  },
  {
   "cell_type": "markdown",
   "metadata": {},
   "source": [
    "Matchcase Statement (switch): An alternative to using many 'elif' statements"
   ]
  },
  {
   "cell_type": "code",
   "execution_count": null,
   "metadata": {},
   "outputs": [
    {
     "name": "stdout",
     "output_type": "stream",
     "text": [
      "Invalid day\n"
     ]
    }
   ],
   "source": [
    "#  Execute some code if a value matches a \"case\"\n",
    "# Benefits: clearer and syntax is more readable\n",
    "\n",
    "def day_of_week(day):\n",
    "    match day:    \n",
    "        case 1:\n",
    "            return \"It is Monday\"\n",
    "        case 2:\n",
    "            return \"It is Tuesday\"\n",
    "        case 3:\n",
    "            return \"It is Wednesday\"\n",
    "        case _:\n",
    "            return \"Invalid day\"\n",
    "        \n",
    "# You can do the same with using String \"Monday\" --> case \"Monday\": return true\n",
    "\n",
    "print(day_of_week(4))"
   ]
  },
  {
   "cell_type": "code",
   "execution_count": 17,
   "metadata": {},
   "outputs": [
    {
     "name": "stdout",
     "output_type": "stream",
     "text": [
      "True\n"
     ]
    }
   ],
   "source": [
    "def is_weekend(day):\n",
    "    match day: \n",
    "        case \"Saturday\" | \"Sunday\":\n",
    "            return True\n",
    "        case \"Monday\" | \"Tuesday\" | \"Wednesday\" | \"Thursday\" | \"Friday\":\n",
    "            return False\n",
    "        case _:\n",
    "            return False\n",
    "print(is_weekend(\"Sunday\"))"
   ]
  },
  {
   "cell_type": "markdown",
   "metadata": {},
   "source": [
    "Modules"
   ]
  },
  {
   "cell_type": "code",
   "execution_count": 21,
   "metadata": {},
   "outputs": [
    {
     "name": "stdout",
     "output_type": "stream",
     "text": [
      "3.141592653589793\n"
     ]
    }
   ],
   "source": [
    "# a file containing code you want to include in your program\n",
    "# use 'import' to include a module (built-in your own)\n",
    "# useful to break up a large program resuable separate files\n",
    "\n",
    "import math as m\n",
    "\n",
    "print(m.pi)"
   ]
  },
  {
   "cell_type": "markdown",
   "metadata": {},
   "source": [
    "Static Methods"
   ]
  },
  {
   "cell_type": "code",
   "execution_count": 5,
   "metadata": {},
   "outputs": [
    {
     "name": "stdout",
     "output_type": "stream",
     "text": [
      "False\n",
      "Eugene = Manager\n",
      "Squidward = Cashier\n",
      "Spongebob = Cook\n"
     ]
    }
   ],
   "source": [
    "# A method that belong to a class rather than any object from that class (instance). Usually used for general utility functions\n",
    "\n",
    "# Instance methods = Best for operations on instances of the class (objects)\n",
    "# Static methods = Best for utility functions that do not need access to class data\n",
    "\n",
    "class Employee:\n",
    "    def __init__(self, name, position):\n",
    "        self.name = name\n",
    "        self.position = position\n",
    "    \n",
    "    def get_info(self):\n",
    "        return f\"{self.name} = {self.position}\"\n",
    "    \n",
    "    @staticmethod\n",
    "    def is_validposition(position):\n",
    "        valid_positions = [\"Manager\", \"Cashier\", \"Cook\", \"Janitor\"]\n",
    "        return position is valid_positions\n",
    "    \n",
    "employee1 = Employee(\"Eugene\", \"Manager\")\n",
    "employee2 = Employee(\"Squidward\", \"Cashier\")\n",
    "employee3 = Employee(\"Spongebob\", \"Cook\")\n",
    "    \n",
    "print(Employee.is_validposition(\"Manager\"))\n",
    "print(employee1.get_info())\n",
    "print(employee2.get_info())\n",
    "print(employee3.get_info())"
   ]
  }
 ],
 "metadata": {
  "kernelspec": {
   "display_name": "Python 3",
   "language": "python",
   "name": "python3"
  },
  "language_info": {
   "codemirror_mode": {
    "name": "ipython",
    "version": 3
   },
   "file_extension": ".py",
   "mimetype": "text/x-python",
   "name": "python",
   "nbconvert_exporter": "python",
   "pygments_lexer": "ipython3",
   "version": "3.11.9"
  }
 },
 "nbformat": 4,
 "nbformat_minor": 2
}
