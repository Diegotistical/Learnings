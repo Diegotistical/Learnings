{
 "cells": [
  {
   "cell_type": "markdown",
   "id": "55431133",
   "metadata": {},
   "source": [
    "## 📝 Black-Scholes Model: Option Pricing in Python\n",
    "## 🔍 Introduction\n",
    "The Black-Scholes-Merton model (1973) is a foundational framework for pricing European-style options. It assumes markets are efficient, volatility is constant, and the underlying asset follows a log-normal distribution.\n",
    "\n",
    "Key Components:\n",
    "European Call/Put Options : Exercisable only at expiration.\n",
    "Assumptions :\n",
    "No arbitrage opportunities.\n",
    "Constant risk-free rate (r) and volatility (σ).\n",
    "Log-normal distribution of asset prices.\n",
    "No transaction costs or taxes."
   ]
  },
  {
   "cell_type": "markdown",
   "id": "01642094",
   "metadata": {},
   "source": [
    "## 🧮 Black-Scholes Formula\n",
    "\n"
   ]
  },
  {
   "cell_type": "markdown",
   "id": "9861fc53",
   "metadata": {},
   "source": [
    "For a European-style, non-dividend paying option, the Black-Scholes formulas are:\n",
    "\n",
    "Call Price:\n",
    "$$\n",
    "C = S_0 N(d_1) - K e^{-rT} N(d_2)\n",
    "$$\n",
    "\n",
    "Put Price:\n",
    "$$\n",
    "P = K e^{-rT} N(-d_2) - S_0 N(-d_1)\n",
    "$$\n",
    "\n",
    "Where:\n",
    "$$\n",
    "d_1 = \\frac{\\ln(S_0/K) + \\left(r + \\frac{\\sigma^2}{2}\\right)T}{\\sigma \\sqrt{T}}, \\quad d_2 = d_1 - \\sigma \\sqrt{T}\n",
    "$$"
   ]
  },
  {
   "cell_type": "markdown",
   "id": "79060388",
   "metadata": {},
   "source": [
    "### 🐍 Python Implementation\n",
    "### Install Required Libraries"
   ]
  },
  {
   "cell_type": "code",
   "execution_count": null,
   "id": "c7eb3ea3",
   "metadata": {},
   "outputs": [],
   "source": [
    "# Install the required libraries using pip\n",
    "# pip install numpy scipy matplotlib\n",
    "\n",
    "# Import necessary libraries\n",
    "import numpy as np\n",
    "import matplotlib.pyplot as plt\n",
    "from scipy.stats import norm"
   ]
  },
  {
   "cell_type": "markdown",
   "id": "bf443a1e",
   "metadata": {},
   "source": [
    "Define the Black-Scholes Function\n"
   ]
  },
  {
   "cell_type": "code",
   "execution_count": null,
   "id": "d91796ef",
   "metadata": {},
   "outputs": [],
   "source": [
    "def black_scholes(S, K, T, r, sigma, option_type='call'):\n",
    "    \"\"\"\n",
    "    Calculate the Black-Scholes price for a European call or put option.\n",
    "    \n",
    "    Parameters:\n",
    "    S : float : Current stock price\n",
    "    K : float : Strike price\n",
    "    T : float : Time to maturity (in years)\n",
    "    r : float : Risk-free interest rate\n",
    "    sigma : float : Volatility of the underlying asset\n",
    "    option_type : str : 'call' or 'put'\n",
    "    \n",
    "    Returns:\n",
    "    float : Option price\n",
    "    \"\"\"\n",
    "    d1 = (np.log(S / K) + (r + sigma**2 / 2) * T) / (sigma * np.sqrt(T))\n",
    "    d2 = d1 - sigma * np.sqrt(T)\n",
    "    \n",
    "    if option_type == 'call':\n",
    "        price = S * norm.cdf(d1) - K * np.exp(-r * T) * norm.cdf(d2)\n",
    "    elif option_type == 'put':\n",
    "        price = K * np.exp(-r * T) * norm.cdf(-d2) - S * norm.cdf(-d1)\n",
    "    else:\n",
    "        raise ValueError(\"Option type must be 'call' or 'put'.\")\n",
    "    \n",
    "    return price"
   ]
  },
  {
   "cell_type": "markdown",
   "id": "a9516c39",
   "metadata": {},
   "source": [
    "Example calculation:"
   ]
  },
  {
   "cell_type": "code",
   "execution_count": null,
   "id": "619dff73",
   "metadata": {},
   "outputs": [],
   "source": [
    "import numpy as np\n",
    "import matplotlib.pyplot as plt\n",
    "from scipy.stats import norm\n",
    "\n",
    "\n",
    "def black_scholes(S, K, T, r, sigma, option_type='call'):\n",
    "    # Parameters:\n",
    "    S = 100     # Stock price\n",
    "    K = 100     # Strike price\n",
    "    T = 1       # Time to maturity (1 year)\n",
    "    r = 0.05    # Risk-free rate (5%)\n",
    "    sigma = 0.2 # Volatility (20%)\n",
    "    d1 = (np.log(S / K) + (r + sigma**2 / 2) * T) / (sigma * np.sqrt(T))\n",
    "    d2 = d1 - sigma * np.sqrt(T)\n",
    "    \n",
    "    if option_type == 'call':\n",
    "        price = S * norm.cdf(d1) - K * np.exp(-r * T) * norm.cdf(d2)\n",
    "    elif option_type == 'put':\n",
    "        price = K * np.exp(-r * T) * norm.cdf(-d2) - S * norm.cdf(-d1)\n",
    "    else:\n",
    "        raise ValueError(\"Option type must be 'call' or 'put'.\")\n",
    "    \n",
    "    return price\n",
    "\n",
    "    call_price = black_scholes(S, K, T, r, sigma, 'call')\n",
    "    put_price = black_scholes(S, K, T, r, sigma, 'put')\n",
    "\n",
    "    print(f\"Call Option Price: ${call_price:.2f}\")\n",
    "    print(f\"Put Option Price: ${put_price:.2f}\")"
   ]
  },
  {
   "cell_type": "markdown",
   "id": "13f62b3e",
   "metadata": {},
   "source": [
    "📈 Sensitivity Analysis\n"
   ]
  },
  {
   "cell_type": "code",
   "execution_count": null,
   "id": "cc7f41cf",
   "metadata": {},
   "outputs": [],
   "source": [
    "sigmas = np.linspace(0.1, 0.5, 100)\n",
    "prices = [black_scholes(S, K, T, r, s, 'call') for s in sigmas]\n",
    "\n",
    "plt.figure(figsize=(8, 4))\n",
    "plt.plot(sigmas, prices, label='Call Price')\n",
    "plt.xlabel('Volatility (σ)')\n",
    "plt.ylabel('Option Price')\n",
    "plt.title('Effect of Volatility on Call Price')\n",
    "plt.grid(True)\n",
    "plt.legend()\n",
    "plt.show()"
   ]
  },
  {
   "cell_type": "markdown",
   "id": "cd2e138b",
   "metadata": {},
   "source": [
    "How does time to maturity affect prices?  "
   ]
  },
  {
   "cell_type": "code",
   "execution_count": null,
   "id": "824b51d1",
   "metadata": {},
   "outputs": [],
   "source": [
    "times = np.linspace(0.1, 2, 100)\n",
    "call_prices = [black_scholes(S, K, t, r, sigma, 'call') for t in times]\n",
    "put_prices = [black_scholes(S, K, t, r, sigma, 'put') for t in times]\n",
    "\n",
    "plt.figure(figsize=(8, 4))\n",
    "plt.plot(times, call_prices, label='Call Price')\n",
    "plt.plot(times, put_prices, label='Put Price')\n",
    "plt.xlabel('Time to Maturity (T)')\n",
    "plt.ylabel('Option Price')\n",
    "plt.title('Effect of Time to Maturity')\n",
    "plt.grid(True)\n",
    "plt.legend()\n",
    "plt.show()"
   ]
  },
  {
   "cell_type": "markdown",
   "id": "78ddbfb7",
   "metadata": {},
   "source": [
    "⚠️ Limitations of the Black-Scholes Model\n",
    "- Assumes constant volatility (real-world volatility fluctuates).\n",
    "- Doesn’t account for dividends or early exercise (American options).\n",
    "- Market frictions (transaction costs, liquidity) are ignored.\n",
    "- Log-normal distribution assumption may not hold in reality."
   ]
  }
 ],
 "metadata": {
  "kernelspec": {
   "display_name": "Python 3",
   "language": "python",
   "name": "python3"
  },
  "language_info": {
   "codemirror_mode": {
    "name": "ipython",
    "version": 3
   },
   "file_extension": ".py",
   "mimetype": "text/x-python",
   "name": "python",
   "nbconvert_exporter": "python",
   "pygments_lexer": "ipython3",
   "version": "3.11.9"
  }
 },
 "nbformat": 4,
 "nbformat_minor": 5
}
